{
 "cells": [
  {
   "cell_type": "code",
   "execution_count": null,
   "metadata": {},
   "outputs": [],
   "source": [
    "import pandas as pd\n",
    "import mysql.connector as mysql\n",
    "\n",
    "data = pd.read_csv('')\n",
    "data_list = [tuple(x) for x in data.values] # Convert DataFrame to list of tuples for insert\n",
    "\n",
    "# Connect to database using 'connect()' method\n",
    "# It takes 3 required parameters 'host', 'user', 'passwd'\n",
    "cnx = mysql.connect(\n",
    "    host = \"localhost\",\n",
    "    user = \"root\",\n",
    "    passwd = \"\",\n",
    "    database = \"GYM_DB\"\n",
    ")\n",
    "\n",
    "print(cnx)\n",
    "cursor = cnx.cursor()"
   ]
  },
  {
   "cell_type": "code",
   "execution_count": null,
   "metadata": {},
   "outputs": [],
   "source": [
    "# Drop Table\n",
    "try:\n",
    "    cursor.execute(\"DROP TABLE coordinates\")\n",
    "    cnx.commit()\n",
    "except:\n",
    "    pass\n",
    "\n",
    "# Create Table Statement\n",
    "cursor.execute(\"CREATE TABLE coordinates (name VARCHAR(255), city VARCHAR(30), state VARCHAR(2), latitude DECIMAL(10, 4), longitude DECIMAL(10, 4))\")\n",
    "cnx.commit()\n",
    "\n",
    "# Insert Statement\n",
    "query = \"INSERT INTO coordinates (name, city, state, latitude, longitude) VALUES (%s,%s,%s,%s,%s)\"\n",
    "\n",
    "\n",
    "# Insert data into database\n",
    "try:\n",
    "    cursor.executemany(query, data_list)\n",
    "    cnx.commit()\n",
    "\n",
    "except ValueError as e:\n",
    "    print('Error:', e)"
   ]
  },
  {
   "cell_type": "code",
   "execution_count": null,
   "metadata": {},
   "outputs": [],
   "source": []
  }
 ],
 "metadata": {
  "kernelspec": {
   "display_name": "Python 3",
   "language": "python",
   "name": "python3"
  },
  "language_info": {
   "codemirror_mode": {
    "name": "ipython",
    "version": 3
   },
   "file_extension": ".py",
   "mimetype": "text/x-python",
   "name": "python",
   "nbconvert_exporter": "python",
   "pygments_lexer": "ipython3",
   "version": "3.7.4"
  }
 },
 "nbformat": 4,
 "nbformat_minor": 2
}
